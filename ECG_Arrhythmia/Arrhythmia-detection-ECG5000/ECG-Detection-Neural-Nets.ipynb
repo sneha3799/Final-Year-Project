{
 "cells": [
  {
   "cell_type": "code",
   "execution_count": 1,
   "metadata": {},
   "outputs": [
    {
     "name": "stderr",
     "output_type": "stream",
     "text": [
      "Using TensorFlow backend.\n"
     ]
    }
   ],
   "source": [
    "import numpy as np\n",
    "import pandas as pd\n",
    "from keras.models import Sequential\n",
    "from keras.layers import Dense"
   ]
  },
  {
   "cell_type": "code",
   "execution_count": 2,
   "metadata": {},
   "outputs": [],
   "source": [
    "dataset = pd.read_csv(\"train_1.csv\",header=None)\n",
    "X = dataset.iloc[:,:-1].values\n",
    "y = dataset.iloc[:,-1].values"
   ]
  },
  {
   "cell_type": "code",
   "execution_count": 3,
   "metadata": {},
   "outputs": [],
   "source": [
    "dt = pd.read_csv(\"test.csv\")\n",
    "X_test = dt.iloc[:,:-1].values\n",
    "y_test = dt.iloc[:,-1].values"
   ]
  },
  {
   "cell_type": "code",
   "execution_count": 4,
   "metadata": {},
   "outputs": [
    {
     "data": {
      "text/plain": [
       "(500, 141)"
      ]
     },
     "execution_count": 4,
     "metadata": {},
     "output_type": "execute_result"
    }
   ],
   "source": [
    "dataset.shape"
   ]
  },
  {
   "cell_type": "code",
   "execution_count": 5,
   "metadata": {},
   "outputs": [],
   "source": [
    "model = Sequential()\n",
    "model.add(Dense(3,input_dim=140,activation='relu'))\n",
    "model.add(Dense(5,activation='relu'))\n",
    "model.add(Dense(1,activation='sigmoid'))"
   ]
  },
  {
   "cell_type": "code",
   "execution_count": 6,
   "metadata": {},
   "outputs": [
    {
     "name": "stdout",
     "output_type": "stream",
     "text": [
      "WARNING:tensorflow:From C:\\Users\\User\\Anaconda3\\lib\\site-packages\\tensorflow\\python\\ops\\nn_impl.py:180: add_dispatch_support.<locals>.wrapper (from tensorflow.python.ops.array_ops) is deprecated and will be removed in a future version.\n",
      "Instructions for updating:\n",
      "Use tf.where in 2.0, which has the same broadcast rule as np.where\n"
     ]
    }
   ],
   "source": [
    "model.compile(loss='binary_crossentropy',optimizer='adam',metrics=['accuracy'])"
   ]
  },
  {
   "cell_type": "code",
   "execution_count": 9,
   "metadata": {},
   "outputs": [
    {
     "name": "stdout",
     "output_type": "stream",
     "text": [
      "Epoch 1/100\n",
      "500/500 [==============================] - 0s 350us/step - loss: 0.0062 - accuracy: 1.0000\n",
      "Epoch 2/100\n",
      "500/500 [==============================] - 0s 269us/step - loss: 0.0059 - accuracy: 1.0000\n",
      "Epoch 3/100\n",
      "500/500 [==============================] - 0s 265us/step - loss: 0.0055 - accuracy: 1.0000\n",
      "Epoch 4/100\n",
      "500/500 [==============================] - 0s 334us/step - loss: 0.0053 - accuracy: 1.0000\n",
      "Epoch 5/100\n",
      "500/500 [==============================] - 0s 265us/step - loss: 0.0050 - accuracy: 1.0000\n",
      "Epoch 6/100\n",
      "500/500 [==============================] - 0s 237us/step - loss: 0.0048 - accuracy: 1.0000\n",
      "Epoch 7/100\n",
      "500/500 [==============================] - 0s 267us/step - loss: 0.0045 - accuracy: 1.0000\n",
      "Epoch 8/100\n",
      "500/500 [==============================] - 0s 245us/step - loss: 0.0043 - accuracy: 1.0000\n",
      "Epoch 9/100\n",
      "500/500 [==============================] - 0s 267us/step - loss: 0.0041 - accuracy: 1.0000\n",
      "Epoch 10/100\n",
      "500/500 [==============================] - 0s 283us/step - loss: 0.0039 - accuracy: 1.0000\n",
      "Epoch 11/100\n",
      "500/500 [==============================] - 0s 249us/step - loss: 0.0037 - accuracy: 1.0000\n",
      "Epoch 12/100\n",
      "500/500 [==============================] - 0s 267us/step - loss: 0.0035 - accuracy: 1.0000\n",
      "Epoch 13/100\n",
      "500/500 [==============================] - 0s 271us/step - loss: 0.0033 - accuracy: 1.0000\n",
      "Epoch 14/100\n",
      "500/500 [==============================] - 0s 278us/step - loss: 0.0032 - accuracy: 1.0000\n",
      "Epoch 15/100\n",
      "500/500 [==============================] - 0s 280us/step - loss: 0.0030 - accuracy: 1.0000\n",
      "Epoch 16/100\n",
      "500/500 [==============================] - 0s 281us/step - loss: 0.0029 - accuracy: 1.0000\n",
      "Epoch 17/100\n",
      "500/500 [==============================] - 0s 337us/step - loss: 0.0028 - accuracy: 1.0000\n",
      "Epoch 18/100\n",
      "500/500 [==============================] - 0s 259us/step - loss: 0.0027 - accuracy: 1.0000\n",
      "Epoch 19/100\n",
      "500/500 [==============================] - 0s 285us/step - loss: 0.0025 - accuracy: 1.0000\n",
      "Epoch 20/100\n",
      "500/500 [==============================] - 0s 277us/step - loss: 0.0024 - accuracy: 1.0000\n",
      "Epoch 21/100\n",
      "500/500 [==============================] - 0s 289us/step - loss: 0.0023 - accuracy: 1.0000\n",
      "Epoch 22/100\n",
      "500/500 [==============================] - 0s 279us/step - loss: 0.0022 - accuracy: 1.0000\n",
      "Epoch 23/100\n",
      "500/500 [==============================] - 0s 281us/step - loss: 0.0021 - accuracy: 1.0000\n",
      "Epoch 24/100\n",
      "500/500 [==============================] - 0s 301us/step - loss: 0.0021 - accuracy: 1.0000\n",
      "Epoch 25/100\n",
      "500/500 [==============================] - 0s 271us/step - loss: 0.0020 - accuracy: 1.0000\n",
      "Epoch 26/100\n",
      "500/500 [==============================] - 0s 280us/step - loss: 0.0019 - accuracy: 1.0000\n",
      "Epoch 27/100\n",
      "500/500 [==============================] - 0s 263us/step - loss: 0.0018 - accuracy: 1.0000\n",
      "Epoch 28/100\n",
      "500/500 [==============================] - 0s 251us/step - loss: 0.0017 - accuracy: 1.0000\n",
      "Epoch 29/100\n",
      "500/500 [==============================] - 0s 269us/step - loss: 0.0017 - accuracy: 1.0000\n",
      "Epoch 30/100\n",
      "500/500 [==============================] - 0s 263us/step - loss: 0.0016 - accuracy: 1.0000\n",
      "Epoch 31/100\n",
      "500/500 [==============================] - 0s 269us/step - loss: 0.0015 - accuracy: 1.0000\n",
      "Epoch 32/100\n",
      "500/500 [==============================] - 0s 262us/step - loss: 0.0015 - accuracy: 1.0000\n",
      "Epoch 33/100\n",
      "500/500 [==============================] - 0s 277us/step - loss: 0.0014 - accuracy: 1.0000\n",
      "Epoch 34/100\n",
      "500/500 [==============================] - 0s 271us/step - loss: 0.0014 - accuracy: 1.0000\n",
      "Epoch 35/100\n",
      "500/500 [==============================] - 0s 255us/step - loss: 0.0013 - accuracy: 1.0000\n",
      "Epoch 36/100\n",
      "500/500 [==============================] - 0s 263us/step - loss: 0.0013 - accuracy: 1.0000\n",
      "Epoch 37/100\n",
      "500/500 [==============================] - 0s 263us/step - loss: 0.0012 - accuracy: 1.0000\n",
      "Epoch 38/100\n",
      "500/500 [==============================] - 0s 266us/step - loss: 0.0012 - accuracy: 1.0000\n",
      "Epoch 39/100\n",
      "500/500 [==============================] - 0s 275us/step - loss: 0.0011 - accuracy: 1.0000\n",
      "Epoch 40/100\n",
      "500/500 [==============================] - 0s 311us/step - loss: 0.0011 - accuracy: 1.0000\n",
      "Epoch 41/100\n",
      "500/500 [==============================] - 0s 287us/step - loss: 0.0010 - accuracy: 1.0000\n",
      "Epoch 42/100\n",
      "500/500 [==============================] - 0s 265us/step - loss: 0.0010 - accuracy: 1.0000\n",
      "Epoch 43/100\n",
      "500/500 [==============================] - 0s 271us/step - loss: 9.7291e-04 - accuracy: 1.0000\n",
      "Epoch 44/100\n",
      "500/500 [==============================] - 0s 266us/step - loss: 9.3578e-04 - accuracy: 1.0000\n",
      "Epoch 45/100\n",
      "500/500 [==============================] - 0s 263us/step - loss: 9.0753e-04 - accuracy: 1.0000\n",
      "Epoch 46/100\n",
      "500/500 [==============================] - 0s 265us/step - loss: 8.7254e-04 - accuracy: 1.0000\n",
      "Epoch 47/100\n",
      "500/500 [==============================] - 0s 285us/step - loss: 8.3876e-04 - accuracy: 1.0000\n",
      "Epoch 48/100\n",
      "500/500 [==============================] - 0s 277us/step - loss: 8.1184e-04 - accuracy: 1.0000\n",
      "Epoch 49/100\n",
      "500/500 [==============================] - 0s 273us/step - loss: 7.8285e-04 - accuracy: 1.0000\n",
      "Epoch 50/100\n",
      "500/500 [==============================] - 0s 275us/step - loss: 7.5456e-04 - accuracy: 1.0000\n",
      "Epoch 51/100\n",
      "500/500 [==============================] - 0s 270us/step - loss: 7.2614e-04 - accuracy: 1.0000\n",
      "Epoch 52/100\n",
      "500/500 [==============================] - 0s 293us/step - loss: 7.0199e-04 - accuracy: 1.0000\n",
      "Epoch 53/100\n",
      "500/500 [==============================] - 0s 346us/step - loss: 6.7709e-04 - accuracy: 1.0000\n",
      "Epoch 54/100\n",
      "500/500 [==============================] - 0s 287us/step - loss: 6.5580e-04 - accuracy: 1.0000\n",
      "Epoch 55/100\n",
      "500/500 [==============================] - 0s 349us/step - loss: 6.3406e-04 - accuracy: 1.0000\n",
      "Epoch 56/100\n",
      "500/500 [==============================] - 0s 263us/step - loss: 6.0969e-04 - accuracy: 1.0000\n",
      "Epoch 57/100\n",
      "500/500 [==============================] - 0s 253us/step - loss: 5.8931e-04 - accuracy: 1.0000\n",
      "Epoch 58/100\n",
      "500/500 [==============================] - 0s 257us/step - loss: 5.7174e-04 - accuracy: 1.0000\n",
      "Epoch 59/100\n",
      "500/500 [==============================] - 0s 289us/step - loss: 5.5117e-04 - accuracy: 1.0000\n",
      "Epoch 60/100\n",
      "500/500 [==============================] - 0s 279us/step - loss: 5.3148e-04 - accuracy: 1.0000\n",
      "Epoch 61/100\n",
      "500/500 [==============================] - 0s 259us/step - loss: 5.1425e-04 - accuracy: 1.0000\n",
      "Epoch 62/100\n",
      "500/500 [==============================] - 0s 293us/step - loss: 4.9860e-04 - accuracy: 1.0000\n",
      "Epoch 63/100\n",
      "500/500 [==============================] - 0s 293us/step - loss: 4.8087e-04 - accuracy: 1.0000\n",
      "Epoch 64/100\n",
      "500/500 [==============================] - 0s 267us/step - loss: 4.6605e-04 - accuracy: 1.0000\n",
      "Epoch 65/100\n",
      "500/500 [==============================] - 0s 287us/step - loss: 4.4983e-04 - accuracy: 1.0000\n",
      "Epoch 66/100\n",
      "500/500 [==============================] - 0s 250us/step - loss: 4.3486e-04 - accuracy: 1.0000\n",
      "Epoch 67/100\n",
      "500/500 [==============================] - 0s 257us/step - loss: 4.2057e-04 - accuracy: 1.0000\n",
      "Epoch 68/100\n",
      "500/500 [==============================] - 0s 251us/step - loss: 4.0768e-04 - accuracy: 1.0000\n",
      "Epoch 69/100\n",
      "500/500 [==============================] - 0s 229us/step - loss: 3.9378e-04 - accuracy: 1.0000\n",
      "Epoch 70/100\n",
      "500/500 [==============================] - 0s 276us/step - loss: 3.8070e-04 - accuracy: 1.0000\n",
      "Epoch 71/100\n",
      "500/500 [==============================] - 0s 269us/step - loss: 3.6869e-04 - accuracy: 1.0000\n",
      "Epoch 72/100\n",
      "500/500 [==============================] - 0s 256us/step - loss: 3.5742e-04 - accuracy: 1.0000\n",
      "Epoch 73/100\n",
      "500/500 [==============================] - 0s 263us/step - loss: 3.4447e-04 - accuracy: 1.0000\n",
      "Epoch 74/100\n",
      "500/500 [==============================] - 0s 261us/step - loss: 3.3403e-04 - accuracy: 1.00000s - loss: 3.3020e-04 - accuracy: 1.00\n",
      "Epoch 75/100\n",
      "500/500 [==============================] - 0s 231us/step - loss: 3.2437e-04 - accuracy: 1.0000\n",
      "Epoch 76/100\n",
      "500/500 [==============================] - 0s 273us/step - loss: 3.1405e-04 - accuracy: 1.0000\n",
      "Epoch 77/100\n",
      "500/500 [==============================] - 0s 279us/step - loss: 3.0322e-04 - accuracy: 1.0000\n",
      "Epoch 78/100\n"
     ]
    },
    {
     "name": "stdout",
     "output_type": "stream",
     "text": [
      "500/500 [==============================] - 0s 281us/step - loss: 2.9418e-04 - accuracy: 1.0000\n",
      "Epoch 79/100\n",
      "500/500 [==============================] - 0s 263us/step - loss: 2.8538e-04 - accuracy: 1.0000\n",
      "Epoch 80/100\n",
      "500/500 [==============================] - 0s 255us/step - loss: 2.7567e-04 - accuracy: 1.0000\n",
      "Epoch 81/100\n",
      "500/500 [==============================] - 0s 271us/step - loss: 2.6690e-04 - accuracy: 1.0000\n",
      "Epoch 82/100\n",
      "500/500 [==============================] - 0s 275us/step - loss: 2.5935e-04 - accuracy: 1.0000\n",
      "Epoch 83/100\n",
      "500/500 [==============================] - 0s 289us/step - loss: 2.5061e-04 - accuracy: 1.0000\n",
      "Epoch 84/100\n",
      "500/500 [==============================] - ETA: 0s - loss: 2.2706e-04 - accuracy: 1.00 - 0s 277us/step - loss: 2.4288e-04 - accuracy: 1.0000\n",
      "Epoch 85/100\n",
      "500/500 [==============================] - 0s 251us/step - loss: 2.3605e-04 - accuracy: 1.0000\n",
      "Epoch 86/100\n",
      "500/500 [==============================] - ETA: 0s - loss: 2.2645e-04 - accuracy: 1.00 - 0s 343us/step - loss: 2.2833e-04 - accuracy: 1.0000\n",
      "Epoch 87/100\n",
      "500/500 [==============================] - 0s 305us/step - loss: 2.2036e-04 - accuracy: 1.00000s - loss: 2.0115e-04 - accuracy: 1.\n",
      "Epoch 88/100\n",
      "500/500 [==============================] - 0s 281us/step - loss: 2.1417e-04 - accuracy: 1.0000\n",
      "Epoch 89/100\n",
      "500/500 [==============================] - 0s 264us/step - loss: 2.0758e-04 - accuracy: 1.0000\n",
      "Epoch 90/100\n",
      "500/500 [==============================] - 0s 240us/step - loss: 2.0108e-04 - accuracy: 1.0000\n",
      "Epoch 91/100\n",
      "500/500 [==============================] - 0s 281us/step - loss: 1.9471e-04 - accuracy: 1.0000\n",
      "Epoch 92/100\n",
      "500/500 [==============================] - 0s 283us/step - loss: 1.8864e-04 - accuracy: 1.0000\n",
      "Epoch 93/100\n",
      "500/500 [==============================] - 0s 291us/step - loss: 1.8289e-04 - accuracy: 1.0000\n",
      "Epoch 94/100\n",
      "500/500 [==============================] - 0s 273us/step - loss: 1.7725e-04 - accuracy: 1.0000\n",
      "Epoch 95/100\n",
      "500/500 [==============================] - 0s 285us/step - loss: 1.7198e-04 - accuracy: 1.0000\n",
      "Epoch 96/100\n",
      "500/500 [==============================] - 0s 287us/step - loss: 1.6696e-04 - accuracy: 1.0000\n",
      "Epoch 97/100\n",
      "500/500 [==============================] - 0s 285us/step - loss: 1.6183e-04 - accuracy: 1.0000\n",
      "Epoch 98/100\n",
      "500/500 [==============================] - 0s 248us/step - loss: 1.5650e-04 - accuracy: 1.0000\n",
      "Epoch 99/100\n",
      "500/500 [==============================] - 0s 249us/step - loss: 1.5184e-04 - accuracy: 1.0000\n",
      "Epoch 100/100\n",
      "500/500 [==============================] - 0s 301us/step - loss: 1.4714e-04 - accuracy: 1.0000\n"
     ]
    },
    {
     "data": {
      "text/plain": [
       "<keras.callbacks.callbacks.History at 0x236cfe15088>"
      ]
     },
     "execution_count": 9,
     "metadata": {},
     "output_type": "execute_result"
    }
   ],
   "source": [
    "model.fit(X,y,epochs=100,batch_size=10)"
   ]
  },
  {
   "cell_type": "code",
   "execution_count": 10,
   "metadata": {},
   "outputs": [
    {
     "name": "stdout",
     "output_type": "stream",
     "text": [
      "4499/4499 [==============================] - 0s 59us/step\n",
      "\n",
      "accuracy : 97.89%\n"
     ]
    }
   ],
   "source": [
    "scores = model.evaluate(X_test,y_test)\n",
    "print(\"\\n%s : %.2f%%\" % (model.metrics_names[1],scores[1]*100))"
   ]
  },
  {
   "cell_type": "code",
   "execution_count": null,
   "metadata": {},
   "outputs": [],
   "source": []
  }
 ],
 "metadata": {
  "kernelspec": {
   "display_name": "Python 3",
   "language": "python",
   "name": "python3"
  },
  "language_info": {
   "codemirror_mode": {
    "name": "ipython",
    "version": 3
   },
   "file_extension": ".py",
   "mimetype": "text/x-python",
   "name": "python",
   "nbconvert_exporter": "python",
   "pygments_lexer": "ipython3",
   "version": "3.7.4"
  }
 },
 "nbformat": 4,
 "nbformat_minor": 2
}
