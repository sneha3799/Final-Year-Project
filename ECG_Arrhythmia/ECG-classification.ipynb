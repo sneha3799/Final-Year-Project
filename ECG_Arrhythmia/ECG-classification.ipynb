{
 "cells": [
  {
   "cell_type": "markdown",
   "metadata": {},
   "source": [
    "# Arrhythmia detection (0- Normal beats,1,2,3,4-Abnormal beats),Dataset - ECG5000"
   ]
  },
  {
   "cell_type": "code",
   "execution_count": 1,
   "metadata": {},
   "outputs": [],
   "source": [
    "import numpy as np\n",
    "import matplotlib.pyplot as plt\n",
    "import pandas as pd"
   ]
  },
  {
   "cell_type": "code",
   "execution_count": 2,
   "metadata": {},
   "outputs": [],
   "source": [
    "dataset = pd.read_csv(\"ECG5000_test.csv\")\n",
    "dt1 = pd.read_csv(\"ECG5000_train.csv\")"
   ]
  },
  {
   "cell_type": "code",
   "execution_count": 3,
   "metadata": {},
   "outputs": [],
   "source": [
    "X_train = dataset.iloc[:,:-1].values\n",
    "y_train = dataset.iloc[:,-1].values\n",
    "X_test = dt1.iloc[:,:-1].values\n",
    "y_test = dt1.iloc[:,-1].values"
   ]
  },
  {
   "cell_type": "code",
   "execution_count": 4,
   "metadata": {},
   "outputs": [
    {
     "name": "stderr",
     "output_type": "stream",
     "text": [
      "C:\\Users\\User\\Anaconda3\\lib\\site-packages\\sklearn\\preprocessing\\_encoders.py:415: FutureWarning: The handling of integer data will change in version 0.22. Currently, the categories are determined based on the range [0, max(values)], while in the future they will be determined based on the unique values.\n",
      "If you want the future behaviour and silence this warning, you can specify \"categories='auto'\".\n",
      "In case you used a LabelEncoder before this OneHotEncoder to convert the categories to integers, then you can now use the OneHotEncoder directly.\n",
      "  warnings.warn(msg, FutureWarning)\n"
     ]
    },
    {
     "data": {
      "text/plain": [
       "<500x5 sparse matrix of type '<class 'numpy.float64'>'\n",
       "\twith 500 stored elements in Compressed Sparse Row format>"
      ]
     },
     "execution_count": 4,
     "metadata": {},
     "output_type": "execute_result"
    }
   ],
   "source": [
    "# Encoding the dependent variable\n",
    "from sklearn.preprocessing import OneHotEncoder\n",
    "ohe = OneHotEncoder()\n",
    "ohe.fit_transform(y_train.reshape(-1,1))"
   ]
  },
  {
   "cell_type": "code",
   "execution_count": 7,
   "metadata": {},
   "outputs": [
    {
     "name": "stdout",
     "output_type": "stream",
     "text": [
      "[2 2 2 2 2 2 2 2 2 2 2 2 2 2 2 2 2 2 2 2 2 2 2 2 2 2 2 2 2 2 2 2 2 2 2 2 2\n",
      " 2 2 2 2 2 2 2 2 2 2 2 2 2 2 2 2 2 2 2 2 2 2 2 2 2 2 2 2 2 2 2 2 3 3 3 3 3\n",
      " 3 3 3 3 3 4 4 4 4 4 4 4 4 4 4 4 4 4 4 4 4 4 4 4 5 5]\n"
     ]
    }
   ],
   "source": [
    "print(y_train[400:])"
   ]
  },
  {
   "cell_type": "markdown",
   "metadata": {},
   "source": [
    "# Kernel SVM"
   ]
  },
  {
   "cell_type": "code",
   "execution_count": 8,
   "metadata": {},
   "outputs": [
    {
     "name": "stderr",
     "output_type": "stream",
     "text": [
      "C:\\Users\\User\\Anaconda3\\lib\\site-packages\\sklearn\\svm\\base.py:193: FutureWarning: The default value of gamma will change from 'auto' to 'scale' in version 0.22 to account better for unscaled features. Set gamma explicitly to 'auto' or 'scale' to avoid this warning.\n",
      "  \"avoid this warning.\", FutureWarning)\n"
     ]
    },
    {
     "data": {
      "text/plain": [
       "SVC(C=1.0, cache_size=200, class_weight=None, coef0=0.0,\n",
       "    decision_function_shape='ovr', degree=3, gamma='auto_deprecated',\n",
       "    kernel='rbf', max_iter=-1, probability=False, random_state=None,\n",
       "    shrinking=True, tol=0.001, verbose=False)"
      ]
     },
     "execution_count": 8,
     "metadata": {},
     "output_type": "execute_result"
    }
   ],
   "source": [
    "from sklearn.svm import SVC\n",
    "ksvm = SVC(kernel='rbf')\n",
    "ksvm.fit(X_train,y_train)"
   ]
  },
  {
   "cell_type": "code",
   "execution_count": 9,
   "metadata": {},
   "outputs": [
    {
     "name": "stdout",
     "output_type": "stream",
     "text": [
      "[1]\n"
     ]
    }
   ],
   "source": [
    "print(ksvm.predict([[0.087630577,-1.7534903,-3.3044731,-4.7046566,-4.6864151,-3.6118167,-2.2672676,-1.570893,-1.4177903,-0.50078809,-0.22517739,-0.30883362,-0.21473324,-0.21450921,-0.22312107,-0.26233599,-0.2118159,-0.29909881,-0.25995633,-0.31610955,-0.25866848,-0.28714668,-0.36685535,-0.30598032,-0.41670806,-0.40230307,-0.3815541,-0.51989677,-0.52095179,-0.59691915,-0.6507003,-0.67963616,-0.75152681,-0.72522391,-0.83070065,-0.80731727,-0.84838836,-0.74455386,-0.69997298,-0.75435259,-0.62191821,-0.53394237,-0.3965959,-0.22089032,-0.17931625,-0.00948034,-0.024018025,0.041459691,0.094492517,0.083212059,0.099031316,0.045914253,0.10951946,0.168162,0.26346944,0.13610056,0.15883825,0.08980313,0.14660419,0.19676887,0.26898346,0.23726297,0.18635578,0.24141723,0.27842589,0.38315578,0.38957693,0.39354878,0.57738569,0.58774864,0.58188293,0.5449169,0.65788513,0.60177743,0.64273411,0.69906231,0.6801103,0.69863975,0.71617522,0.66862611,0.6718266,0.57504464,0.5292125,0.54333826,0.60328119,0.55471386,0.56362046,0.48903431,0.44695034,0.45643246,0.39325248,0.44143912,0.44738863,0.27405506,0.36460866,0.40121863,0.44788969,0.54780929,0.6420901,0.78832807,0.74980141,0.82085218,0.96416033,1.0618841,1.3408602,1.1378081,0.86401264,0.6839801,0.62842387,0.50113433,0.49129218,0.46193736,0.32981245,0.1204151,-0.14196808,-0.19517724,-0.10265211,-0.076308425,-0.11651106,-0.19168563,-0.23429165,-0.16112658,-0.14536342,-0.21218169,-0.13568405,-0.1334405,-0.17007668,-0.035913592,0.33224263,1.0632505,1.575754,1.7090456,2.1429259,2.393528,1.92555,1.0276237,0.57345293,0.19297149,-0.64868286,-2.4410678]]))"
   ]
  },
  {
   "cell_type": "code",
   "execution_count": 10,
   "metadata": {},
   "outputs": [
    {
     "name": "stdout",
     "output_type": "stream",
     "text": [
      "[2]\n"
     ]
    }
   ],
   "source": [
    "print(ksvm.predict([[0.95324235,0.77127376,0.30104506,-0.49906226,-0.85264837,-1.1836698,-1.6161765,-1.8540788,-1.8362536,-1.585443,-1.1717503,-0.81657409,-0.50372297,-0.41442852,-0.33109064,-0.007735187,0.44585482,0.55020167,0.485564,0.46952353,0.45863731,0.44977674,0.44255356,0.45164861,0.38938355,0.41765102,0.47561697,0.48011944,0.4714523,0.51364186,0.49884647,0.45882017,0.46417123,0.49619338,0.52006678,0.45337824,0.38731001,0.34825093,0.33235425,0.37277642,0.37231748,0.35814382,0.23794529,0.28734231,0.27664904,0.23634723,0.30709014,0.21288045,0.19444063,0.17747019,0.12437241,0.14537112,0.091502378,0.0572156,0.089751632,0.041898278,0.006256359,-0.001473174,0.009545261,-0.016361119,-0.035928219,-0.022056776,-0.06721399,-0.10499679,-0.10498087,-0.040286083,-0.09412929,-0.063551018,-0.033710071,-0.093066508,-0.043366841,-0.012832935,0.022640182,0.076042146,0.1468543,0.23224265,0.20727474,0.26444977,0.34552017,0.40265865,0.44054955,0.40047669,0.36989898,0.49261908,0.53274279,0.49681144,0.52215329,0.4923576,0.47654693,0.49811527,0.61372306,0.65081585,0.59244265,0.564082,0.55887499,0.56927301,0.59964893,0.62936494,0.58104229,0.60408747,0.71617194,0.7008751,0.62324959,0.57666352,0.65516422,0.64825732,0.68778289,0.7692567,0.7479442,0.71640598,0.74205272,0.73662599,0.73663392,0.78961701,0.76739811,0.84600274,0.87858614,0.78740362,0.74231366,0.71967299,0.46785537,0.36299887,0.40673928,0.38550744,0.21627213,-0.08890634,-0.31885963,-0.62723796,-0.87164014,-1.1402709,-1.1562263,-1.3452832,-1.7758592,-2.0924899,-2.8118059,-3.1410959,-3.9596481,-4.2032912,-4.6628937,-3.2945586]]))"
   ]
  },
  {
   "cell_type": "code",
   "execution_count": 11,
   "metadata": {},
   "outputs": [
    {
     "name": "stdout",
     "output_type": "stream",
     "text": [
      "[[1 1]\n",
      " [1 1]\n",
      " [1 1]\n",
      " ...\n",
      " [2 2]\n",
      " [2 2]\n",
      " [4 2]]\n"
     ]
    }
   ],
   "source": [
    "y_pred = ksvm.predict(X_test)\n",
    "print(np.concatenate((y_pred.reshape(len(y_pred),1),y_test.reshape(len(y_test),1)),1))"
   ]
  },
  {
   "cell_type": "code",
   "execution_count": 12,
   "metadata": {},
   "outputs": [
    {
     "name": "stdout",
     "output_type": "stream",
     "text": [
      "[[2625    2    0    0    0]\n",
      " [  51 1519    0   20    0]\n",
      " [  21   63    1    1    0]\n",
      " [  24   91    0   60    0]\n",
      " [  16    5    0    1    0]]\n",
      "0.9344444444444444\n"
     ]
    }
   ],
   "source": [
    "from sklearn.metrics import confusion_matrix,accuracy_score\n",
    "cm = confusion_matrix(y_test,y_pred)\n",
    "print(cm)\n",
    "print(accuracy_score(y_test,y_pred))"
   ]
  },
  {
   "cell_type": "markdown",
   "metadata": {},
   "source": [
    "# Support Vector Machine"
   ]
  },
  {
   "cell_type": "code",
   "execution_count": 13,
   "metadata": {},
   "outputs": [
    {
     "data": {
      "text/plain": [
       "SVC(C=1.0, cache_size=200, class_weight=None, coef0=0.0,\n",
       "    decision_function_shape='ovr', degree=3, gamma='auto_deprecated',\n",
       "    kernel='linear', max_iter=-1, probability=False, random_state=None,\n",
       "    shrinking=True, tol=0.001, verbose=False)"
      ]
     },
     "execution_count": 13,
     "metadata": {},
     "output_type": "execute_result"
    }
   ],
   "source": [
    "from sklearn.svm import SVC\n",
    "svm = SVC(kernel='linear')\n",
    "svm.fit(X_train,y_train)"
   ]
  },
  {
   "cell_type": "code",
   "execution_count": 30,
   "metadata": {},
   "outputs": [
    {
     "name": "stdout",
     "output_type": "stream",
     "text": [
      "[2]\n"
     ]
    }
   ],
   "source": [
    "print(svm.predict([[0.95324235,0.77127376,0.30104506,-0.49906226,-0.85264837,-1.1836698,-1.6161765,-1.8540788,-1.8362536,-1.585443,-1.1717503,-0.81657409,-0.50372297,-0.41442852,-0.33109064,-0.007735187,0.44585482,0.55020167,0.485564,0.46952353,0.45863731,0.44977674,0.44255356,0.45164861,0.38938355,0.41765102,0.47561697,0.48011944,0.4714523,0.51364186,0.49884647,0.45882017,0.46417123,0.49619338,0.52006678,0.45337824,0.38731001,0.34825093,0.33235425,0.37277642,0.37231748,0.35814382,0.23794529,0.28734231,0.27664904,0.23634723,0.30709014,0.21288045,0.19444063,0.17747019,0.12437241,0.14537112,0.091502378,0.0572156,0.089751632,0.041898278,0.006256359,-0.001473174,0.009545261,-0.016361119,-0.035928219,-0.022056776,-0.06721399,-0.10499679,-0.10498087,-0.040286083,-0.09412929,-0.063551018,-0.033710071,-0.093066508,-0.043366841,-0.012832935,0.022640182,0.076042146,0.1468543,0.23224265,0.20727474,0.26444977,0.34552017,0.40265865,0.44054955,0.40047669,0.36989898,0.49261908,0.53274279,0.49681144,0.52215329,0.4923576,0.47654693,0.49811527,0.61372306,0.65081585,0.59244265,0.564082,0.55887499,0.56927301,0.59964893,0.62936494,0.58104229,0.60408747,0.71617194,0.7008751,0.62324959,0.57666352,0.65516422,0.64825732,0.68778289,0.7692567,0.7479442,0.71640598,0.74205272,0.73662599,0.73663392,0.78961701,0.76739811,0.84600274,0.87858614,0.78740362,0.74231366,0.71967299,0.46785537,0.36299887,0.40673928,0.38550744,0.21627213,-0.08890634,-0.31885963,-0.62723796,-0.87164014,-1.1402709,-1.1562263,-1.3452832,-1.7758592,-2.0924899,-2.8118059,-3.1410959,-3.9596481,-4.2032912,-4.6628937,-3.2945586]]))"
   ]
  },
  {
   "cell_type": "code",
   "execution_count": 15,
   "metadata": {},
   "outputs": [
    {
     "name": "stdout",
     "output_type": "stream",
     "text": [
      "[[1 1]\n",
      " [1 1]\n",
      " [1 1]\n",
      " ...\n",
      " [2 2]\n",
      " [2 2]\n",
      " [4 2]]\n"
     ]
    }
   ],
   "source": [
    "y_pred = svm.predict(X_test)\n",
    "print(np.concatenate((y_pred.reshape(len(y_pred),1), y_test.reshape(len(y_test),1)),1))"
   ]
  },
  {
   "cell_type": "code",
   "execution_count": 16,
   "metadata": {},
   "outputs": [
    {
     "name": "stdout",
     "output_type": "stream",
     "text": [
      "[[2618    1    7    0    1]\n",
      " [  37 1498   22   33    0]\n",
      " [  22   32   29    1    2]\n",
      " [   8   94    5   68    0]\n",
      " [   9    5    6    1    1]]\n",
      "0.9364444444444444\n"
     ]
    }
   ],
   "source": [
    "from sklearn.metrics import confusion_matrix,accuracy_score\n",
    "cm = confusion_matrix(y_test,y_pred)\n",
    "print(cm)\n",
    "print(accuracy_score(y_test,y_pred))"
   ]
  },
  {
   "cell_type": "markdown",
   "metadata": {},
   "source": [
    "# Naive Bayes"
   ]
  },
  {
   "cell_type": "code",
   "execution_count": 17,
   "metadata": {},
   "outputs": [
    {
     "data": {
      "text/plain": [
       "GaussianNB(priors=None, var_smoothing=1e-09)"
      ]
     },
     "execution_count": 17,
     "metadata": {},
     "output_type": "execute_result"
    }
   ],
   "source": [
    "from sklearn.naive_bayes import GaussianNB\n",
    "gnb = GaussianNB()\n",
    "gnb.fit(X_train,y_train)"
   ]
  },
  {
   "cell_type": "code",
   "execution_count": 31,
   "metadata": {},
   "outputs": [
    {
     "name": "stdout",
     "output_type": "stream",
     "text": [
      "[2]\n"
     ]
    }
   ],
   "source": [
    "print(gnb.predict([[0.95324235,0.77127376,0.30104506,-0.49906226,-0.85264837,-1.1836698,-1.6161765,-1.8540788,-1.8362536,-1.585443,-1.1717503,-0.81657409,-0.50372297,-0.41442852,-0.33109064,-0.007735187,0.44585482,0.55020167,0.485564,0.46952353,0.45863731,0.44977674,0.44255356,0.45164861,0.38938355,0.41765102,0.47561697,0.48011944,0.4714523,0.51364186,0.49884647,0.45882017,0.46417123,0.49619338,0.52006678,0.45337824,0.38731001,0.34825093,0.33235425,0.37277642,0.37231748,0.35814382,0.23794529,0.28734231,0.27664904,0.23634723,0.30709014,0.21288045,0.19444063,0.17747019,0.12437241,0.14537112,0.091502378,0.0572156,0.089751632,0.041898278,0.006256359,-0.001473174,0.009545261,-0.016361119,-0.035928219,-0.022056776,-0.06721399,-0.10499679,-0.10498087,-0.040286083,-0.09412929,-0.063551018,-0.033710071,-0.093066508,-0.043366841,-0.012832935,0.022640182,0.076042146,0.1468543,0.23224265,0.20727474,0.26444977,0.34552017,0.40265865,0.44054955,0.40047669,0.36989898,0.49261908,0.53274279,0.49681144,0.52215329,0.4923576,0.47654693,0.49811527,0.61372306,0.65081585,0.59244265,0.564082,0.55887499,0.56927301,0.59964893,0.62936494,0.58104229,0.60408747,0.71617194,0.7008751,0.62324959,0.57666352,0.65516422,0.64825732,0.68778289,0.7692567,0.7479442,0.71640598,0.74205272,0.73662599,0.73663392,0.78961701,0.76739811,0.84600274,0.87858614,0.78740362,0.74231366,0.71967299,0.46785537,0.36299887,0.40673928,0.38550744,0.21627213,-0.08890634,-0.31885963,-0.62723796,-0.87164014,-1.1402709,-1.1562263,-1.3452832,-1.7758592,-2.0924899,-2.8118059,-3.1410959,-3.9596481,-4.2032912,-4.6628937,-3.2945586]]))"
   ]
  },
  {
   "cell_type": "code",
   "execution_count": 19,
   "metadata": {},
   "outputs": [
    {
     "name": "stdout",
     "output_type": "stream",
     "text": [
      "[[1 1]\n",
      " [1 1]\n",
      " [1 1]\n",
      " ...\n",
      " [2 2]\n",
      " [2 2]\n",
      " [4 2]]\n"
     ]
    }
   ],
   "source": [
    "y_pred = gnb.predict(X_test)\n",
    "print(np.concatenate((y_pred.reshape(len(y_pred),1),y_test.reshape(len(y_test),1)),1))"
   ]
  },
  {
   "cell_type": "code",
   "execution_count": 20,
   "metadata": {},
   "outputs": [
    {
     "name": "stdout",
     "output_type": "stream",
     "text": [
      "[[2500    0  114   13    0]\n",
      " [  10 1347   71  162    0]\n",
      " [  15    8   40   23    0]\n",
      " [   6   76    9   84    0]\n",
      " [   9    3    8    2    0]]\n",
      "0.8824444444444445\n"
     ]
    }
   ],
   "source": [
    "from sklearn.metrics import confusion_matrix,accuracy_score\n",
    "print(confusion_matrix(y_test,y_pred))\n",
    "print(accuracy_score(y_test,y_pred))"
   ]
  },
  {
   "cell_type": "markdown",
   "metadata": {},
   "source": [
    "# K-Nearest Neighbors"
   ]
  },
  {
   "cell_type": "code",
   "execution_count": 21,
   "metadata": {},
   "outputs": [
    {
     "data": {
      "text/plain": [
       "KNeighborsClassifier(algorithm='auto', leaf_size=30, metric='minkowski',\n",
       "                     metric_params=None, n_jobs=None, n_neighbors=5, p=2,\n",
       "                     weights='uniform')"
      ]
     },
     "execution_count": 21,
     "metadata": {},
     "output_type": "execute_result"
    }
   ],
   "source": [
    "from sklearn.neighbors import KNeighborsClassifier\n",
    "knn = KNeighborsClassifier(n_neighbors=5,metric='minkowski',p=2)\n",
    "knn.fit(X_train,y_train)"
   ]
  },
  {
   "cell_type": "code",
   "execution_count": 32,
   "metadata": {},
   "outputs": [
    {
     "name": "stdout",
     "output_type": "stream",
     "text": [
      "[2]\n"
     ]
    }
   ],
   "source": [
    "print(knn.predict([[0.95324235,0.77127376,0.30104506,-0.49906226,-0.85264837,-1.1836698,-1.6161765,-1.8540788,-1.8362536,-1.585443,-1.1717503,-0.81657409,-0.50372297,-0.41442852,-0.33109064,-0.007735187,0.44585482,0.55020167,0.485564,0.46952353,0.45863731,0.44977674,0.44255356,0.45164861,0.38938355,0.41765102,0.47561697,0.48011944,0.4714523,0.51364186,0.49884647,0.45882017,0.46417123,0.49619338,0.52006678,0.45337824,0.38731001,0.34825093,0.33235425,0.37277642,0.37231748,0.35814382,0.23794529,0.28734231,0.27664904,0.23634723,0.30709014,0.21288045,0.19444063,0.17747019,0.12437241,0.14537112,0.091502378,0.0572156,0.089751632,0.041898278,0.006256359,-0.001473174,0.009545261,-0.016361119,-0.035928219,-0.022056776,-0.06721399,-0.10499679,-0.10498087,-0.040286083,-0.09412929,-0.063551018,-0.033710071,-0.093066508,-0.043366841,-0.012832935,0.022640182,0.076042146,0.1468543,0.23224265,0.20727474,0.26444977,0.34552017,0.40265865,0.44054955,0.40047669,0.36989898,0.49261908,0.53274279,0.49681144,0.52215329,0.4923576,0.47654693,0.49811527,0.61372306,0.65081585,0.59244265,0.564082,0.55887499,0.56927301,0.59964893,0.62936494,0.58104229,0.60408747,0.71617194,0.7008751,0.62324959,0.57666352,0.65516422,0.64825732,0.68778289,0.7692567,0.7479442,0.71640598,0.74205272,0.73662599,0.73663392,0.78961701,0.76739811,0.84600274,0.87858614,0.78740362,0.74231366,0.71967299,0.46785537,0.36299887,0.40673928,0.38550744,0.21627213,-0.08890634,-0.31885963,-0.62723796,-0.87164014,-1.1402709,-1.1562263,-1.3452832,-1.7758592,-2.0924899,-2.8118059,-3.1410959,-3.9596481,-4.2032912,-4.6628937,-3.2945586]]))"
   ]
  },
  {
   "cell_type": "code",
   "execution_count": 23,
   "metadata": {},
   "outputs": [
    {
     "name": "stdout",
     "output_type": "stream",
     "text": [
      "[[1 1]\n",
      " [1 1]\n",
      " [1 1]\n",
      " ...\n",
      " [2 2]\n",
      " [2 2]\n",
      " [4 2]]\n"
     ]
    }
   ],
   "source": [
    "y_pred = knn.predict(X_test)\n",
    "print(np.concatenate((y_pred.reshape(len(y_pred),1),y_test.reshape(len(y_test),1)),1))"
   ]
  },
  {
   "cell_type": "code",
   "execution_count": 24,
   "metadata": {},
   "outputs": [
    {
     "name": "stdout",
     "output_type": "stream",
     "text": [
      "[[2625    1    0    1    0]\n",
      " [  43 1512    5   30    0]\n",
      " [  19   40   26    1    0]\n",
      " [  25   86    1   63    0]\n",
      " [  12    9    0    1    0]]\n",
      "0.9391111111111111\n"
     ]
    }
   ],
   "source": [
    "from sklearn.metrics import confusion_matrix,accuracy_score\n",
    "print(confusion_matrix(y_test,y_pred))\n",
    "print(accuracy_score(y_test,y_pred))"
   ]
  },
  {
   "cell_type": "markdown",
   "metadata": {},
   "source": [
    "# Decision Tree"
   ]
  },
  {
   "cell_type": "code",
   "execution_count": 25,
   "metadata": {},
   "outputs": [
    {
     "data": {
      "text/plain": [
       "DecisionTreeClassifier(class_weight=None, criterion='entropy', max_depth=None,\n",
       "                       max_features=None, max_leaf_nodes=None,\n",
       "                       min_impurity_decrease=0.0, min_impurity_split=None,\n",
       "                       min_samples_leaf=1, min_samples_split=2,\n",
       "                       min_weight_fraction_leaf=0.0, presort=False,\n",
       "                       random_state=None, splitter='best')"
      ]
     },
     "execution_count": 25,
     "metadata": {},
     "output_type": "execute_result"
    }
   ],
   "source": [
    "from sklearn.tree import DecisionTreeClassifier\n",
    "dt = DecisionTreeClassifier(criterion='entropy')\n",
    "dt.fit(X_train,y_train)"
   ]
  },
  {
   "cell_type": "code",
   "execution_count": 33,
   "metadata": {},
   "outputs": [
    {
     "name": "stdout",
     "output_type": "stream",
     "text": [
      "[2]\n"
     ]
    }
   ],
   "source": [
    "print(dt.predict([[0.95324235,0.77127376,0.30104506,-0.49906226,-0.85264837,-1.1836698,-1.6161765,-1.8540788,-1.8362536,-1.585443,-1.1717503,-0.81657409,-0.50372297,-0.41442852,-0.33109064,-0.007735187,0.44585482,0.55020167,0.485564,0.46952353,0.45863731,0.44977674,0.44255356,0.45164861,0.38938355,0.41765102,0.47561697,0.48011944,0.4714523,0.51364186,0.49884647,0.45882017,0.46417123,0.49619338,0.52006678,0.45337824,0.38731001,0.34825093,0.33235425,0.37277642,0.37231748,0.35814382,0.23794529,0.28734231,0.27664904,0.23634723,0.30709014,0.21288045,0.19444063,0.17747019,0.12437241,0.14537112,0.091502378,0.0572156,0.089751632,0.041898278,0.006256359,-0.001473174,0.009545261,-0.016361119,-0.035928219,-0.022056776,-0.06721399,-0.10499679,-0.10498087,-0.040286083,-0.09412929,-0.063551018,-0.033710071,-0.093066508,-0.043366841,-0.012832935,0.022640182,0.076042146,0.1468543,0.23224265,0.20727474,0.26444977,0.34552017,0.40265865,0.44054955,0.40047669,0.36989898,0.49261908,0.53274279,0.49681144,0.52215329,0.4923576,0.47654693,0.49811527,0.61372306,0.65081585,0.59244265,0.564082,0.55887499,0.56927301,0.59964893,0.62936494,0.58104229,0.60408747,0.71617194,0.7008751,0.62324959,0.57666352,0.65516422,0.64825732,0.68778289,0.7692567,0.7479442,0.71640598,0.74205272,0.73662599,0.73663392,0.78961701,0.76739811,0.84600274,0.87858614,0.78740362,0.74231366,0.71967299,0.46785537,0.36299887,0.40673928,0.38550744,0.21627213,-0.08890634,-0.31885963,-0.62723796,-0.87164014,-1.1402709,-1.1562263,-1.3452832,-1.7758592,-2.0924899,-2.8118059,-3.1410959,-3.9596481,-4.2032912,-4.6628937,-3.2945586]]))"
   ]
  },
  {
   "cell_type": "code",
   "execution_count": 27,
   "metadata": {},
   "outputs": [
    {
     "name": "stdout",
     "output_type": "stream",
     "text": [
      "[[1 1]\n",
      " [1 1]\n",
      " [1 1]\n",
      " ...\n",
      " [2 2]\n",
      " [2 2]\n",
      " [4 2]]\n"
     ]
    }
   ],
   "source": [
    "y_pred = dt.predict(X_test)\n",
    "print(np.concatenate((y_pred.reshape(len(y_pred),1),y_test.reshape(len(y_test),1)),1))"
   ]
  },
  {
   "cell_type": "code",
   "execution_count": 28,
   "metadata": {},
   "outputs": [
    {
     "name": "stdout",
     "output_type": "stream",
     "text": [
      "[[2593   11    9    3   11]\n",
      " [  74 1349   42  113   12]\n",
      " [  11   24   34   14    3]\n",
      " [  26   82    8   56    3]\n",
      " [  10    4    7    1    0]]\n",
      "0.896\n"
     ]
    }
   ],
   "source": [
    "from sklearn.metrics import confusion_matrix,accuracy_score\n",
    "print(confusion_matrix(y_test,y_pred))\n",
    "print(accuracy_score(y_test,y_pred))"
   ]
  },
  {
   "cell_type": "markdown",
   "metadata": {},
   "source": [
    "# Random Forest"
   ]
  },
  {
   "cell_type": "code",
   "execution_count": 29,
   "metadata": {},
   "outputs": [
    {
     "data": {
      "text/plain": [
       "RandomForestClassifier(bootstrap=True, class_weight=None, criterion='entropy',\n",
       "                       max_depth=None, max_features='auto', max_leaf_nodes=None,\n",
       "                       min_impurity_decrease=0.0, min_impurity_split=None,\n",
       "                       min_samples_leaf=1, min_samples_split=2,\n",
       "                       min_weight_fraction_leaf=0.0, n_estimators=50,\n",
       "                       n_jobs=None, oob_score=False, random_state=None,\n",
       "                       verbose=0, warm_start=False)"
      ]
     },
     "execution_count": 29,
     "metadata": {},
     "output_type": "execute_result"
    }
   ],
   "source": [
    "from sklearn.ensemble import RandomForestClassifier\n",
    "rf = RandomForestClassifier(n_estimators=50,criterion='entropy')\n",
    "rf.fit(X_train,y_train)"
   ]
  },
  {
   "cell_type": "code",
   "execution_count": 34,
   "metadata": {},
   "outputs": [
    {
     "name": "stdout",
     "output_type": "stream",
     "text": [
      "[2]\n"
     ]
    }
   ],
   "source": [
    "print(rf.predict([[0.95324235,0.77127376,0.30104506,-0.49906226,-0.85264837,-1.1836698,-1.6161765,-1.8540788,-1.8362536,-1.585443,-1.1717503,-0.81657409,-0.50372297,-0.41442852,-0.33109064,-0.007735187,0.44585482,0.55020167,0.485564,0.46952353,0.45863731,0.44977674,0.44255356,0.45164861,0.38938355,0.41765102,0.47561697,0.48011944,0.4714523,0.51364186,0.49884647,0.45882017,0.46417123,0.49619338,0.52006678,0.45337824,0.38731001,0.34825093,0.33235425,0.37277642,0.37231748,0.35814382,0.23794529,0.28734231,0.27664904,0.23634723,0.30709014,0.21288045,0.19444063,0.17747019,0.12437241,0.14537112,0.091502378,0.0572156,0.089751632,0.041898278,0.006256359,-0.001473174,0.009545261,-0.016361119,-0.035928219,-0.022056776,-0.06721399,-0.10499679,-0.10498087,-0.040286083,-0.09412929,-0.063551018,-0.033710071,-0.093066508,-0.043366841,-0.012832935,0.022640182,0.076042146,0.1468543,0.23224265,0.20727474,0.26444977,0.34552017,0.40265865,0.44054955,0.40047669,0.36989898,0.49261908,0.53274279,0.49681144,0.52215329,0.4923576,0.47654693,0.49811527,0.61372306,0.65081585,0.59244265,0.564082,0.55887499,0.56927301,0.59964893,0.62936494,0.58104229,0.60408747,0.71617194,0.7008751,0.62324959,0.57666352,0.65516422,0.64825732,0.68778289,0.7692567,0.7479442,0.71640598,0.74205272,0.73662599,0.73663392,0.78961701,0.76739811,0.84600274,0.87858614,0.78740362,0.74231366,0.71967299,0.46785537,0.36299887,0.40673928,0.38550744,0.21627213,-0.08890634,-0.31885963,-0.62723796,-0.87164014,-1.1402709,-1.1562263,-1.3452832,-1.7758592,-2.0924899,-2.8118059,-3.1410959,-3.9596481,-4.2032912,-4.6628937,-3.2945586]]))"
   ]
  },
  {
   "cell_type": "code",
   "execution_count": 35,
   "metadata": {},
   "outputs": [
    {
     "name": "stdout",
     "output_type": "stream",
     "text": [
      "[[1 1]\n",
      " [1 1]\n",
      " [1 1]\n",
      " ...\n",
      " [2 2]\n",
      " [2 2]\n",
      " [4 2]]\n"
     ]
    }
   ],
   "source": [
    "y_pred = rf.predict(X_test)\n",
    "print(np.concatenate((y_pred.reshape(len(y_pred),1),y_test.reshape(len(y_test),1)),1))"
   ]
  },
  {
   "cell_type": "code",
   "execution_count": 36,
   "metadata": {},
   "outputs": [
    {
     "name": "stdout",
     "output_type": "stream",
     "text": [
      "[[2625    1    1    0    0]\n",
      " [  53 1514    2   21    0]\n",
      " [  29   30   25    2    0]\n",
      " [  27   89    0   59    0]\n",
      " [  17    4    0    1    0]]\n",
      "0.9384444444444444\n"
     ]
    }
   ],
   "source": [
    "from sklearn.metrics import confusion_matrix,accuracy_score\n",
    "print(confusion_matrix(y_test,y_pred))\n",
    "print(accuracy_score(y_test,y_pred))"
   ]
  },
  {
   "cell_type": "markdown",
   "metadata": {},
   "source": [
    "# XGBoost "
   ]
  },
  {
   "cell_type": "code",
   "execution_count": 39,
   "metadata": {},
   "outputs": [
    {
     "data": {
      "text/plain": [
       "XGBClassifier(base_score=0.5, booster='gbtree', colsample_bylevel=1,\n",
       "              colsample_bynode=1, colsample_bytree=1, gamma=0, gpu_id=-1,\n",
       "              importance_type='gain', interaction_constraints='',\n",
       "              learning_rate=0.300000012, max_delta_step=0, max_depth=6,\n",
       "              min_child_weight=1, missing=nan, monotone_constraints='()',\n",
       "              n_estimators=100, n_jobs=0, num_parallel_tree=1,\n",
       "              objective='multi:softprob', random_state=0, reg_alpha=0,\n",
       "              reg_lambda=1, scale_pos_weight=None, subsample=1,\n",
       "              tree_method='exact', validate_parameters=1, verbosity=None)"
      ]
     },
     "execution_count": 39,
     "metadata": {},
     "output_type": "execute_result"
    }
   ],
   "source": [
    "from xgboost import XGBClassifier\n",
    "xgb = XGBClassifier()\n",
    "xgb.fit(X_train,y_train)"
   ]
  },
  {
   "cell_type": "code",
   "execution_count": 42,
   "metadata": {},
   "outputs": [
    {
     "name": "stdout",
     "output_type": "stream",
     "text": [
      "[[1 1]\n",
      " [1 1]\n",
      " [1 1]\n",
      " ...\n",
      " [2 2]\n",
      " [2 2]\n",
      " [4 2]]\n"
     ]
    }
   ],
   "source": [
    "y_pred = rf.predict(X_test)\n",
    "print(np.concatenate((y_pred.reshape(len(y_pred),1),y_test.reshape(len(y_test),1)),1))"
   ]
  },
  {
   "cell_type": "code",
   "execution_count": 44,
   "metadata": {},
   "outputs": [
    {
     "name": "stdout",
     "output_type": "stream",
     "text": [
      "[[2623    3    1    0    0]\n",
      " [  58 1493   14   24    1]\n",
      " [  28   24   26    7    1]\n",
      " [  25   82    7   61    0]\n",
      " [  15    3    3    1    0]]\n"
     ]
    },
    {
     "data": {
      "text/plain": [
       "0.934"
      ]
     },
     "execution_count": 44,
     "metadata": {},
     "output_type": "execute_result"
    }
   ],
   "source": [
    "from sklearn.metrics import confusion_matrix, accuracy_score\n",
    "y_pred = xgb.predict(X_test)\n",
    "cm = confusion_matrix(y_test, y_pred)\n",
    "print(cm)\n",
    "accuracy_score(y_test, y_pred)"
   ]
  },
  {
   "cell_type": "code",
   "execution_count": null,
   "metadata": {},
   "outputs": [],
   "source": []
  }
 ],
 "metadata": {
  "kernelspec": {
   "display_name": "Python 3",
   "language": "python",
   "name": "python3"
  },
  "language_info": {
   "codemirror_mode": {
    "name": "ipython",
    "version": 3
   },
   "file_extension": ".py",
   "mimetype": "text/x-python",
   "name": "python",
   "nbconvert_exporter": "python",
   "pygments_lexer": "ipython3",
   "version": "3.7.4"
  }
 },
 "nbformat": 4,
 "nbformat_minor": 2
}
